{
 "cells": [
  {
   "cell_type": "code",
   "execution_count": 19,
   "id": "7752ec67",
   "metadata": {},
   "outputs": [],
   "source": [
    "import os\n",
    "import csv\n",
    "import json\n",
    "from elasticsearch import Elasticsearch"
   ]
  },
  {
   "cell_type": "code",
   "execution_count": null,
   "id": "e8267e25",
   "metadata": {},
   "outputs": [],
   "source": []
  },
  {
   "cell_type": "code",
   "execution_count": 20,
   "id": "9c395b0b",
   "metadata": {},
   "outputs": [],
   "source": [
    "csv_path=\"/var/www/html/Salla/customer_behavioral_data_with_city_v5.csv\"\n",
    "client = Elasticsearch(\"http://3.125.9.240:9221/\")\n",
    "data = []\n",
    "counter = 0"
   ]
  },
  {
   "cell_type": "code",
   "execution_count": null,
   "id": "e2427da1",
   "metadata": {},
   "outputs": [
    {
     "name": "stderr",
     "output_type": "stream",
     "text": [
      "/tmp/ipykernel_6254/368236279.py:11: DeprecationWarning: The 'body' parameter is deprecated and will be removed in a future version. Instead use the 'operations' parameter. See https://github.com/elastic/elasticsearch-py/issues/1698 for more information\n",
      "  resp = client.bulk(body=data)\n"
     ]
    }
   ],
   "source": [
    "with open(csv_path) as csv_file:\n",
    "    reader = csv.DictReader(csv_file)\n",
    "    for row in reader:\n",
    "        counter = counter + 1\n",
    "        row['product_id']=row['\\ufeffproduct_id']\n",
    "        del row['\\ufeffproduct_id']\n",
    "        \n",
    "        data.append({\"index\": {\"_index\": \"profiles22\", \"_id\": row['product_id']}})\n",
    "        data.append(row)\n",
    "        if counter%100==0:\n",
    "            resp = client.bulk(body=data)\n",
    "            data = []\n",
    "        "
   ]
  },
  {
   "cell_type": "code",
   "execution_count": null,
   "id": "6cffe665",
   "metadata": {},
   "outputs": [],
   "source": []
  }
 ],
 "metadata": {
  "kernelspec": {
   "display_name": "Python 3 (ipykernel)",
   "language": "python",
   "name": "python3"
  },
  "language_info": {
   "codemirror_mode": {
    "name": "ipython",
    "version": 3
   },
   "file_extension": ".py",
   "mimetype": "text/x-python",
   "name": "python",
   "nbconvert_exporter": "python",
   "pygments_lexer": "ipython3",
   "version": "3.10.6"
  }
 },
 "nbformat": 4,
 "nbformat_minor": 5
}
